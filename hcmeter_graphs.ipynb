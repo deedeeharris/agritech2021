{
  "nbformat": 4,
  "nbformat_minor": 0,
  "metadata": {
    "colab": {
      "name": "hcmeter_graphs.ipynb",
      "provenance": [],
      "collapsed_sections": [],
      "include_colab_link": true
    },
    "kernelspec": {
      "name": "python3",
      "display_name": "Python 3"
    },
    "language_info": {
      "name": "python"
    }
  },
  "cells": [
    {
      "cell_type": "markdown",
      "metadata": {
        "id": "view-in-github",
        "colab_type": "text"
      },
      "source": [
        "<a href=\"https://colab.research.google.com/github/deedeeharris/agritech2021/blob/main/hcmeter_graphs.ipynb\" target=\"_parent\"><img src=\"https://colab.research.google.com/assets/colab-badge.svg\" alt=\"Open In Colab\"/></a>"
      ]
    },
    {
      "cell_type": "code",
      "metadata": {
        "id": "Tu7UTGfT6Gtp"
      },
      "source": [
        "import pandas as pd\n",
        "import numpy as np\n",
        "import matplotlib.pyplot as plt\n",
        "import seaborn as sns\n",
        "sns.set(style=\"ticks\", font_scale=1.5)\n",
        "# Handle date time conversions between pandas and matplotlib\n",
        "from pandas.plotting import register_matplotlib_converters\n",
        "register_matplotlib_converters()\n",
        "\n",
        "# import libs for reading feed from ThingSpeak\n",
        "import urllib3\n",
        "import json\n",
        "import time"
      ],
      "execution_count": null,
      "outputs": []
    },
    {
      "cell_type": "code",
      "metadata": {
        "id": "rotXr6-L8HOK",
        "colab": {
          "base_uri": "https://localhost:8080/",
          "height": 504
        },
        "outputId": "e54d980c-fb5d-4b13-ba7b-97ecd4b9412b"
      },
      "source": [
        "df = pd.read_excel('/content/drive/MyDrive/71252/feeds/feeds.xlsx', names = ['Date', 'ID', 'Weight', 'Pressure_Bottom_(mH20)', 'Pressure_Top_(mH20)'])\n",
        "# make 'date' the dataframe index\n",
        "df['Date'] = pd.to_datetime(df['Date'])\n",
        "df = df.set_index('Date')\n",
        "df\n"
      ],
      "execution_count": null,
      "outputs": [
        {
          "output_type": "stream",
          "text": [
            "/usr/local/lib/python3.7/dist-packages/dateutil/parser/_parser.py:1218: UnknownTimezoneWarning: tzname IDT identified but not understood.  Pass `tzinfos` argument in order to correctly return a timezone-aware datetime.  In a future version, this will raise an exception.\n",
            "  category=UnknownTimezoneWarning)\n"
          ],
          "name": "stderr"
        },
        {
          "output_type": "execute_result",
          "data": {
            "text/html": [
              "<div>\n",
              "<style scoped>\n",
              "    .dataframe tbody tr th:only-of-type {\n",
              "        vertical-align: middle;\n",
              "    }\n",
              "\n",
              "    .dataframe tbody tr th {\n",
              "        vertical-align: top;\n",
              "    }\n",
              "\n",
              "    .dataframe thead th {\n",
              "        text-align: right;\n",
              "    }\n",
              "</style>\n",
              "<table border=\"1\" class=\"dataframe\">\n",
              "  <thead>\n",
              "    <tr style=\"text-align: right;\">\n",
              "      <th></th>\n",
              "      <th>ID</th>\n",
              "      <th>Weight</th>\n",
              "      <th>Pressure_Bottom_(mH20)</th>\n",
              "      <th>Pressure_Top_(mH20)</th>\n",
              "    </tr>\n",
              "    <tr>\n",
              "      <th>Date</th>\n",
              "      <th></th>\n",
              "      <th></th>\n",
              "      <th></th>\n",
              "      <th></th>\n",
              "    </tr>\n",
              "  </thead>\n",
              "  <tbody>\n",
              "    <tr>\n",
              "      <th>2021-06-17 10:47:31</th>\n",
              "      <td>1</td>\n",
              "      <td>0</td>\n",
              "      <td>5.38618</td>\n",
              "      <td>29.73398</td>\n",
              "    </tr>\n",
              "    <tr>\n",
              "      <th>2021-06-17 10:47:48</th>\n",
              "      <td>2</td>\n",
              "      <td>0</td>\n",
              "      <td>5.60653</td>\n",
              "      <td>30.06449</td>\n",
              "    </tr>\n",
              "    <tr>\n",
              "      <th>2021-06-17 10:48:06</th>\n",
              "      <td>3</td>\n",
              "      <td>0</td>\n",
              "      <td>5.38618</td>\n",
              "      <td>30.83569</td>\n",
              "    </tr>\n",
              "    <tr>\n",
              "      <th>2021-06-17 10:48:23</th>\n",
              "      <td>4</td>\n",
              "      <td>0</td>\n",
              "      <td>5.60653</td>\n",
              "      <td>29.51364</td>\n",
              "    </tr>\n",
              "    <tr>\n",
              "      <th>2021-06-17 10:48:40</th>\n",
              "      <td>5</td>\n",
              "      <td>0</td>\n",
              "      <td>5.60653</td>\n",
              "      <td>29.84415</td>\n",
              "    </tr>\n",
              "    <tr>\n",
              "      <th>...</th>\n",
              "      <td>...</td>\n",
              "      <td>...</td>\n",
              "      <td>...</td>\n",
              "      <td>...</td>\n",
              "    </tr>\n",
              "    <tr>\n",
              "      <th>2021-06-17 11:25:55</th>\n",
              "      <td>127</td>\n",
              "      <td>-10</td>\n",
              "      <td>5.71670</td>\n",
              "      <td>29.73398</td>\n",
              "    </tr>\n",
              "    <tr>\n",
              "      <th>2021-06-17 11:26:15</th>\n",
              "      <td>128</td>\n",
              "      <td>-10</td>\n",
              "      <td>5.38618</td>\n",
              "      <td>30.06449</td>\n",
              "    </tr>\n",
              "    <tr>\n",
              "      <th>2021-06-17 11:26:35</th>\n",
              "      <td>129</td>\n",
              "      <td>-10</td>\n",
              "      <td>5.71670</td>\n",
              "      <td>30.28483</td>\n",
              "    </tr>\n",
              "    <tr>\n",
              "      <th>2021-06-17 11:26:53</th>\n",
              "      <td>130</td>\n",
              "      <td>-10</td>\n",
              "      <td>5.38618</td>\n",
              "      <td>30.06449</td>\n",
              "    </tr>\n",
              "    <tr>\n",
              "      <th>2021-06-17 11:27:11</th>\n",
              "      <td>131</td>\n",
              "      <td>-10</td>\n",
              "      <td>5.38618</td>\n",
              "      <td>30.17466</td>\n",
              "    </tr>\n",
              "  </tbody>\n",
              "</table>\n",
              "<p>131 rows × 4 columns</p>\n",
              "</div>"
            ],
            "text/plain": [
              "                      ID  Weight  Pressure_Bottom_(mH20)  Pressure_Top_(mH20)\n",
              "Date                                                                         \n",
              "2021-06-17 10:47:31    1       0                 5.38618             29.73398\n",
              "2021-06-17 10:47:48    2       0                 5.60653             30.06449\n",
              "2021-06-17 10:48:06    3       0                 5.38618             30.83569\n",
              "2021-06-17 10:48:23    4       0                 5.60653             29.51364\n",
              "2021-06-17 10:48:40    5       0                 5.60653             29.84415\n",
              "...                  ...     ...                     ...                  ...\n",
              "2021-06-17 11:25:55  127     -10                 5.71670             29.73398\n",
              "2021-06-17 11:26:15  128     -10                 5.38618             30.06449\n",
              "2021-06-17 11:26:35  129     -10                 5.71670             30.28483\n",
              "2021-06-17 11:26:53  130     -10                 5.38618             30.06449\n",
              "2021-06-17 11:27:11  131     -10                 5.38618             30.17466\n",
              "\n",
              "[131 rows x 4 columns]"
            ]
          },
          "metadata": {
            "tags": []
          },
          "execution_count": 39
        }
      ]
    },
    {
      "cell_type": "code",
      "metadata": {
        "colab": {
          "base_uri": "https://localhost:8080/",
          "height": 450
        },
        "id": "VtDlaJlbJaNg",
        "outputId": "a1d3b7f1-9edb-4c2d-c12f-afff425c1470"
      },
      "source": [
        "df['Delta P'] = df['Pressure_Top_(mH20)'] - df['Pressure_Bottom_(mH20)']\n",
        "df"
      ],
      "execution_count": null,
      "outputs": [
        {
          "output_type": "execute_result",
          "data": {
            "text/html": [
              "<div>\n",
              "<style scoped>\n",
              "    .dataframe tbody tr th:only-of-type {\n",
              "        vertical-align: middle;\n",
              "    }\n",
              "\n",
              "    .dataframe tbody tr th {\n",
              "        vertical-align: top;\n",
              "    }\n",
              "\n",
              "    .dataframe thead th {\n",
              "        text-align: right;\n",
              "    }\n",
              "</style>\n",
              "<table border=\"1\" class=\"dataframe\">\n",
              "  <thead>\n",
              "    <tr style=\"text-align: right;\">\n",
              "      <th></th>\n",
              "      <th>ID</th>\n",
              "      <th>Weight</th>\n",
              "      <th>Pressure_Bottom_(mH20)</th>\n",
              "      <th>Pressure_Top_(mH20)</th>\n",
              "      <th>Delta P</th>\n",
              "    </tr>\n",
              "    <tr>\n",
              "      <th>Date</th>\n",
              "      <th></th>\n",
              "      <th></th>\n",
              "      <th></th>\n",
              "      <th></th>\n",
              "      <th></th>\n",
              "    </tr>\n",
              "  </thead>\n",
              "  <tbody>\n",
              "    <tr>\n",
              "      <th>2021-06-17 10:47:31</th>\n",
              "      <td>1</td>\n",
              "      <td>0</td>\n",
              "      <td>5.38618</td>\n",
              "      <td>29.73398</td>\n",
              "      <td>24.34780</td>\n",
              "    </tr>\n",
              "    <tr>\n",
              "      <th>2021-06-17 10:47:48</th>\n",
              "      <td>2</td>\n",
              "      <td>0</td>\n",
              "      <td>5.60653</td>\n",
              "      <td>30.06449</td>\n",
              "      <td>24.45796</td>\n",
              "    </tr>\n",
              "    <tr>\n",
              "      <th>2021-06-17 10:48:06</th>\n",
              "      <td>3</td>\n",
              "      <td>0</td>\n",
              "      <td>5.38618</td>\n",
              "      <td>30.83569</td>\n",
              "      <td>25.44951</td>\n",
              "    </tr>\n",
              "    <tr>\n",
              "      <th>2021-06-17 10:48:23</th>\n",
              "      <td>4</td>\n",
              "      <td>0</td>\n",
              "      <td>5.60653</td>\n",
              "      <td>29.51364</td>\n",
              "      <td>23.90711</td>\n",
              "    </tr>\n",
              "    <tr>\n",
              "      <th>2021-06-17 10:48:40</th>\n",
              "      <td>5</td>\n",
              "      <td>0</td>\n",
              "      <td>5.60653</td>\n",
              "      <td>29.84415</td>\n",
              "      <td>24.23762</td>\n",
              "    </tr>\n",
              "    <tr>\n",
              "      <th>...</th>\n",
              "      <td>...</td>\n",
              "      <td>...</td>\n",
              "      <td>...</td>\n",
              "      <td>...</td>\n",
              "      <td>...</td>\n",
              "    </tr>\n",
              "    <tr>\n",
              "      <th>2021-06-17 11:25:55</th>\n",
              "      <td>127</td>\n",
              "      <td>-10</td>\n",
              "      <td>5.71670</td>\n",
              "      <td>29.73398</td>\n",
              "      <td>24.01728</td>\n",
              "    </tr>\n",
              "    <tr>\n",
              "      <th>2021-06-17 11:26:15</th>\n",
              "      <td>128</td>\n",
              "      <td>-10</td>\n",
              "      <td>5.38618</td>\n",
              "      <td>30.06449</td>\n",
              "      <td>24.67831</td>\n",
              "    </tr>\n",
              "    <tr>\n",
              "      <th>2021-06-17 11:26:35</th>\n",
              "      <td>129</td>\n",
              "      <td>-10</td>\n",
              "      <td>5.71670</td>\n",
              "      <td>30.28483</td>\n",
              "      <td>24.56813</td>\n",
              "    </tr>\n",
              "    <tr>\n",
              "      <th>2021-06-17 11:26:53</th>\n",
              "      <td>130</td>\n",
              "      <td>-10</td>\n",
              "      <td>5.38618</td>\n",
              "      <td>30.06449</td>\n",
              "      <td>24.67831</td>\n",
              "    </tr>\n",
              "    <tr>\n",
              "      <th>2021-06-17 11:27:11</th>\n",
              "      <td>131</td>\n",
              "      <td>-10</td>\n",
              "      <td>5.38618</td>\n",
              "      <td>30.17466</td>\n",
              "      <td>24.78848</td>\n",
              "    </tr>\n",
              "  </tbody>\n",
              "</table>\n",
              "<p>131 rows × 5 columns</p>\n",
              "</div>"
            ],
            "text/plain": [
              "                      ID  Weight  ...  Pressure_Top_(mH20)   Delta P\n",
              "Date                              ...                               \n",
              "2021-06-17 10:47:31    1       0  ...             29.73398  24.34780\n",
              "2021-06-17 10:47:48    2       0  ...             30.06449  24.45796\n",
              "2021-06-17 10:48:06    3       0  ...             30.83569  25.44951\n",
              "2021-06-17 10:48:23    4       0  ...             29.51364  23.90711\n",
              "2021-06-17 10:48:40    5       0  ...             29.84415  24.23762\n",
              "...                  ...     ...  ...                  ...       ...\n",
              "2021-06-17 11:25:55  127     -10  ...             29.73398  24.01728\n",
              "2021-06-17 11:26:15  128     -10  ...             30.06449  24.67831\n",
              "2021-06-17 11:26:35  129     -10  ...             30.28483  24.56813\n",
              "2021-06-17 11:26:53  130     -10  ...             30.06449  24.67831\n",
              "2021-06-17 11:27:11  131     -10  ...             30.17466  24.78848\n",
              "\n",
              "[131 rows x 5 columns]"
            ]
          },
          "metadata": {
            "tags": []
          },
          "execution_count": 38
        }
      ]
    },
    {
      "cell_type": "code",
      "metadata": {
        "colab": {
          "base_uri": "https://localhost:8080/",
          "height": 477
        },
        "id": "7VQ3xnPKI3-W",
        "outputId": "3a420e86-a2ff-4489-ca95-221d55ba525c"
      },
      "source": [
        "# creates figure (the canvas) and the axis (rectangle where the plot sits)\n",
        "fig, ax = plt.subplots(1, figsize=(10,7))\n",
        "# two line plots\n",
        "ax.plot(df['Pressure_Bottom_(mH20)'], color=\"blue\" )\n",
        "# axes labels and figure title\n",
        "ax.set_xlabel('date')\n",
        "ax.set_ylabel('percipitation (mm)')\n",
        "ax.set_title('Santa Barbara Percipitation 2020')\n",
        "# some ticks adjustments\n",
        "plt.gcf().autofmt_xdate()  # makes slated dates"
      ],
      "execution_count": null,
      "outputs": [
        {
          "output_type": "display_data",
          "data": {
            "image/png": "[encoded data removed]",
            "text/plain": [
              "<Figure size 720x504 with 1 Axes>"
            ]
          },
          "metadata": {
            "tags": []
          }
        }
      ]
    }
  ]
}